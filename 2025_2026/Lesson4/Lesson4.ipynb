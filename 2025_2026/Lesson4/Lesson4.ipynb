{
 "cells": [
  {
   "cell_type": "markdown",
   "metadata": {},
   "source": [
    "# Lesson 4 - 2025/10/20"
   ]
  },
  {
   "cell_type": "markdown",
   "metadata": {},
   "source": [
    "### zip\n",
    "\n",
    "Calculate the identity between 2 sequences."
   ]
  },
  {
   "cell_type": "code",
   "execution_count": null,
   "metadata": {},
   "outputs": [],
   "source": [
    "import sys\n",
    "sys.path.append('../data/')\n",
    "\n",
    "from my_utils import generate_string\n",
    "\n",
    "seq1 = generate_string(1000, alphabet='ATGC')\n",
    "seq2 = generate_string(1001, alphabet='ATGC')"
   ]
  },
  {
   "cell_type": "code",
   "execution_count": null,
   "metadata": {},
   "outputs": [],
   "source": []
  },
  {
   "cell_type": "code",
   "execution_count": null,
   "metadata": {},
   "outputs": [],
   "source": []
  },
  {
   "cell_type": "code",
   "execution_count": null,
   "metadata": {},
   "outputs": [],
   "source": []
  },
  {
   "cell_type": "code",
   "execution_count": null,
   "metadata": {},
   "outputs": [],
   "source": []
  },
  {
   "cell_type": "code",
   "execution_count": null,
   "metadata": {},
   "outputs": [],
   "source": []
  },
  {
   "cell_type": "code",
   "execution_count": null,
   "metadata": {},
   "outputs": [],
   "source": []
  },
  {
   "cell_type": "code",
   "execution_count": null,
   "metadata": {},
   "outputs": [
    {
     "data": {
      "text/plain": [
       "251"
      ]
     },
     "execution_count": 2,
     "metadata": {},
     "output_type": "execute_result"
    }
   ],
   "source": [
    "def identity_v1(seq1, seq2):\n",
    "    num_identities = 0\n",
    "    for i in range(len(seq1)):\n",
    "        if seq1[i] == seq2[i]:\n",
    "            num_identities += 1\n",
    "\n",
    "    return num_identities\n",
    "\n",
    "identity_v1(seq1, seq2)"
   ]
  },
  {
   "cell_type": "code",
   "execution_count": null,
   "metadata": {},
   "outputs": [],
   "source": []
  },
  {
   "cell_type": "code",
   "execution_count": null,
   "metadata": {},
   "outputs": [],
   "source": []
  },
  {
   "cell_type": "code",
   "execution_count": null,
   "metadata": {},
   "outputs": [],
   "source": []
  },
  {
   "cell_type": "code",
   "execution_count": null,
   "metadata": {},
   "outputs": [],
   "source": []
  },
  {
   "cell_type": "code",
   "execution_count": null,
   "metadata": {},
   "outputs": [],
   "source": []
  },
  {
   "cell_type": "code",
   "execution_count": null,
   "metadata": {},
   "outputs": [],
   "source": []
  },
  {
   "cell_type": "code",
   "execution_count": null,
   "metadata": {},
   "outputs": [
    {
     "ename": "IndexError",
     "evalue": "string index out of range",
     "output_type": "error",
     "traceback": [
      "\u001b[0;31m---------------------------------------------------------------------------\u001b[0m",
      "\u001b[0;31mIndexError\u001b[0m                                Traceback (most recent call last)",
      "\u001b[1;32m/home/guarracino/git/DataStructuresForBioinformatics/2023_2024/Lesson4/Lesson4.ipynb Cell 17\u001b[0m line \u001b[0;36m1\n\u001b[0;32m----> <a href='vscode-notebook-cell:/home/guarracino/git/DataStructuresForBioinformatics/2023_2024/Lesson4/Lesson4.ipynb#X22sZmlsZQ%3D%3D?line=0'>1</a>\u001b[0m identity_v1(seq2, seq1)\n",
      "\u001b[1;32m/home/guarracino/git/DataStructuresForBioinformatics/2023_2024/Lesson4/Lesson4.ipynb Cell 17\u001b[0m line \u001b[0;36m4\n\u001b[1;32m      <a href='vscode-notebook-cell:/home/guarracino/git/DataStructuresForBioinformatics/2023_2024/Lesson4/Lesson4.ipynb#X22sZmlsZQ%3D%3D?line=1'>2</a>\u001b[0m num_identities \u001b[39m=\u001b[39m \u001b[39m0\u001b[39m\n\u001b[1;32m      <a href='vscode-notebook-cell:/home/guarracino/git/DataStructuresForBioinformatics/2023_2024/Lesson4/Lesson4.ipynb#X22sZmlsZQ%3D%3D?line=2'>3</a>\u001b[0m \u001b[39mfor\u001b[39;00m i \u001b[39min\u001b[39;00m \u001b[39mrange\u001b[39m(\u001b[39mlen\u001b[39m(seq1)):\n\u001b[0;32m----> <a href='vscode-notebook-cell:/home/guarracino/git/DataStructuresForBioinformatics/2023_2024/Lesson4/Lesson4.ipynb#X22sZmlsZQ%3D%3D?line=3'>4</a>\u001b[0m     \u001b[39mif\u001b[39;00m seq1[i] \u001b[39m==\u001b[39m seq2[i]:\n\u001b[1;32m      <a href='vscode-notebook-cell:/home/guarracino/git/DataStructuresForBioinformatics/2023_2024/Lesson4/Lesson4.ipynb#X22sZmlsZQ%3D%3D?line=4'>5</a>\u001b[0m         num_identities \u001b[39m+\u001b[39m\u001b[39m=\u001b[39m \u001b[39m1\u001b[39m\n\u001b[1;32m      <a href='vscode-notebook-cell:/home/guarracino/git/DataStructuresForBioinformatics/2023_2024/Lesson4/Lesson4.ipynb#X22sZmlsZQ%3D%3D?line=6'>7</a>\u001b[0m \u001b[39mreturn\u001b[39;00m num_identities\n",
      "\u001b[0;31mIndexError\u001b[0m: string index out of range"
     ]
    }
   ],
   "source": [
    "identity_v1(seq2, seq1)"
   ]
  },
  {
   "cell_type": "code",
   "execution_count": null,
   "metadata": {},
   "outputs": [],
   "source": []
  },
  {
   "cell_type": "code",
   "execution_count": null,
   "metadata": {},
   "outputs": [],
   "source": []
  },
  {
   "cell_type": "code",
   "execution_count": null,
   "metadata": {},
   "outputs": [],
   "source": []
  },
  {
   "cell_type": "code",
   "execution_count": null,
   "metadata": {},
   "outputs": [],
   "source": []
  },
  {
   "cell_type": "code",
   "execution_count": null,
   "metadata": {},
   "outputs": [],
   "source": []
  },
  {
   "cell_type": "code",
   "execution_count": null,
   "metadata": {},
   "outputs": [
    {
     "name": "stdout",
     "output_type": "stream",
     "text": [
      "251\n",
      "251\n"
     ]
    }
   ],
   "source": [
    "def identity_v2(seq1, seq2):\n",
    "    len_to_use = min(len(seq1), len(seq2))\n",
    "    \n",
    "    num_identities = 0\n",
    "    for i in range(len_to_use):\n",
    "        if seq1[i] == seq2[i]:\n",
    "            num_identities += 1\n",
    "        \n",
    "    return num_identities\n",
    "\n",
    "print(identity_v2(seq1, seq2))\n",
    "print(identity_v2(seq2, seq1))"
   ]
  },
  {
   "cell_type": "markdown",
   "metadata": {},
   "source": [
    "How many pairs do you expect to be equal?"
   ]
  },
  {
   "cell_type": "markdown",
   "metadata": {},
   "source": [
    "\\begin{equation*}\n",
    "N_{identities} \\approx\\ N_{bases} \\cdot P(identity)\n",
    "\\end{equation*}"
   ]
  },
  {
   "cell_type": "markdown",
   "metadata": {},
   "source": [
    "\\begin{equation*}\n",
    "P(identity) = \\\\P(AA) + P(TT) + P(CC) + P(GG) =\\\\ \\frac{1}{4} \\cdot \\frac{1}{4}+\\frac{1}{4} \\cdot \\frac{1}{4}+\\frac{1}{4} \\cdot \\frac{1}{4}+\\frac{1}{4} \\cdot \\frac{1}{4} =\\\\ \\frac{1}{4}\n",
    "\\end{equation*}"
   ]
  },
  {
   "cell_type": "markdown",
   "metadata": {
    "tags": []
   },
   "source": [
    "The `zip()` function makes an iterator that aggregates elements from each of the iterables."
   ]
  },
  {
   "cell_type": "code",
   "execution_count": null,
   "metadata": {},
   "outputs": [
    {
     "name": "stdout",
     "output_type": "stream",
     "text": [
      "('HBA1', '1A00')\n",
      "('SRRM1', '1MP1')\n",
      "('CSTF1', '6B3X')\n"
     ]
    }
   ],
   "source": [
    "protein_symbols = ['HBA1', 'SRRM1', 'CSTF1']\n",
    "pdb_ids = ['1A00', '1MP1', '6B3X']\n",
    "\n",
    "for x in zip(protein_symbols, pdb_ids):\n",
    "    print(x)"
   ]
  },
  {
   "cell_type": "code",
   "execution_count": null,
   "metadata": {},
   "outputs": [
    {
     "name": "stdout",
     "output_type": "stream",
     "text": [
      "251\n",
      "251\n"
     ]
    }
   ],
   "source": [
    "def identity_v3(seq1, seq2):    \n",
    "    num_identities = 0\n",
    "    for bases in zip(seq1, seq2):\n",
    "        if bases[0] == bases[1]:\n",
    "            num_identities += 1\n",
    "        \n",
    "    return num_identities\n",
    "\n",
    "print(identity_v3(seq1, seq2))\n",
    "print(identity_v3(seq2, seq1))"
   ]
  },
  {
   "cell_type": "markdown",
   "metadata": {},
   "source": [
    "Multiple assignment (also known as **tuple unpacking**) allows you to assign multiple variables at the same time in just one line of code. "
   ]
  },
  {
   "cell_type": "code",
   "execution_count": null,
   "metadata": {},
   "outputs": [
    {
     "name": "stdout",
     "output_type": "stream",
     "text": [
      "HBA1 1A00\n",
      "SRRM1 1MP1\n",
      "CSTF1 6B3X\n"
     ]
    }
   ],
   "source": [
    "for symbol, pdb_id in zip(protein_symbols, pdb_ids):\n",
    "    print(symbol, pdb_id)"
   ]
  },
  {
   "cell_type": "code",
   "execution_count": null,
   "metadata": {},
   "outputs": [
    {
     "name": "stdout",
     "output_type": "stream",
     "text": [
      "251\n",
      "251\n"
     ]
    }
   ],
   "source": [
    "def identity_v4(seq1, seq2):    \n",
    "    num_identities = 0\n",
    "    for base1, base2 in zip(seq1, seq2):\n",
    "        if base1 == base2:\n",
    "            num_identities += 1\n",
    "        \n",
    "    return num_identities\n",
    "\n",
    "print(identity_v4(seq1, seq2))\n",
    "print(identity_v4(seq2, seq1))"
   ]
  },
  {
   "cell_type": "code",
   "execution_count": null,
   "metadata": {},
   "outputs": [],
   "source": []
  },
  {
   "cell_type": "code",
   "execution_count": null,
   "metadata": {},
   "outputs": [],
   "source": []
  },
  {
   "cell_type": "code",
   "execution_count": null,
   "metadata": {},
   "outputs": [],
   "source": []
  },
  {
   "cell_type": "code",
   "execution_count": null,
   "metadata": {},
   "outputs": [],
   "source": []
  },
  {
   "cell_type": "code",
   "execution_count": null,
   "metadata": {},
   "outputs": [],
   "source": []
  },
  {
   "cell_type": "code",
   "execution_count": null,
   "metadata": {},
   "outputs": [],
   "source": []
  },
  {
   "cell_type": "code",
   "execution_count": null,
   "metadata": {},
   "outputs": [
    {
     "name": "stdout",
     "output_type": "stream",
     "text": [
      "251\n",
      "251\n"
     ]
    }
   ],
   "source": [
    "def identity_v5(seq1, seq2):\n",
    "    return sum([base1 == base2 for base1, base2 in zip(seq1, seq2)])\n",
    "\n",
    "print(identity_v5(seq1, seq2))\n",
    "print(identity_v5(seq2, seq1))"
   ]
  },
  {
   "cell_type": "code",
   "execution_count": null,
   "metadata": {},
   "outputs": [],
   "source": []
  },
  {
   "cell_type": "code",
   "execution_count": null,
   "metadata": {},
   "outputs": [
    {
     "name": "stdout",
     "output_type": "stream",
     "text": [
      "chr13\t108657671\t108657924\tL1M5\t419\t-\n",
      "\n"
     ]
    }
   ],
   "source": [
    "with open('../data/RepeatMasker.subset.bed') as f:\n",
    "    print(f.readline())"
   ]
  },
  {
   "cell_type": "code",
   "execution_count": null,
   "metadata": {},
   "outputs": [
    {
     "name": "stdout",
     "output_type": "stream",
     "text": [
      "chr13 L1M5\n"
     ]
    }
   ],
   "source": [
    "with open('../data/RepeatMasker.subset.bed') as f:\n",
    "    for line in f:\n",
    "        elements = line.strip().split('\\t')\n",
    "        print(elements[0], elements[3])\n",
    "        break"
   ]
  },
  {
   "cell_type": "code",
   "execution_count": null,
   "metadata": {},
   "outputs": [
    {
     "name": "stdout",
     "output_type": "stream",
     "text": [
      "chr13 L1M5\n"
     ]
    }
   ],
   "source": [
    "with open('../data/RepeatMasker.subset.bed') as f:\n",
    "    for line in f:\n",
    "        chrom, start, end, name, score, strand = line.strip().split('\\t')\n",
    "        print(chrom, name)\n",
    "        break"
   ]
  },
  {
   "cell_type": "code",
   "execution_count": null,
   "metadata": {},
   "outputs": [
    {
     "name": "stdout",
     "output_type": "stream",
     "text": [
      "chr13 L1M5\n"
     ]
    }
   ],
   "source": [
    "with open('../data/RepeatMasker.subset.bed') as f:\n",
    "    for line in f:\n",
    "        chrom, _, _, name, _, _ = line.strip().split('\\t')\n",
    "        print(chrom, name)\n",
    "        break"
   ]
  },
  {
   "cell_type": "markdown",
   "metadata": {},
   "source": [
    "### enumerate\n",
    "\n",
    "It is a built-in function which allows us to loop over something and have an automatic counter."
   ]
  },
  {
   "cell_type": "code",
   "execution_count": 16,
   "metadata": {},
   "outputs": [
    {
     "name": "stdout",
     "output_type": "stream",
     "text": [
      "HBA1\n",
      "SRRM1\n",
      "CSTF1\n"
     ]
    }
   ],
   "source": [
    "for x in ['HBA1', 'SRRM1', 'CSTF1']:\n",
    "    print(x)"
   ]
  },
  {
   "cell_type": "code",
   "execution_count": 17,
   "metadata": {},
   "outputs": [
    {
     "name": "stdout",
     "output_type": "stream",
     "text": [
      "(0, 'HBA1')\n",
      "(1, 'SRRM1')\n",
      "(2, 'CSTF1')\n"
     ]
    }
   ],
   "source": [
    "for x in enumerate(['HBA1', 'SRRM1', 'CSTF1']):\n",
    "    print(x)"
   ]
  },
  {
   "cell_type": "code",
   "execution_count": 18,
   "metadata": {},
   "outputs": [
    {
     "data": {
      "text/plain": [
       "[6,\n",
       " 14,\n",
       " 23,\n",
       " 32,\n",
       " 36,\n",
       " 40,\n",
       " 44,\n",
       " 50,\n",
       " 51,\n",
       " 55,\n",
       " 66,\n",
       " 67,\n",
       " 68,\n",
       " 76,\n",
       " 82,\n",
       " 85,\n",
       " 87,\n",
       " 96,\n",
       " 98,\n",
       " 100]"
      ]
     },
     "execution_count": 18,
     "metadata": {},
     "output_type": "execute_result"
    }
   ],
   "source": [
    "def identity_v4a(seq1, seq2):    \n",
    "    positions = []\n",
    "    for i, (base1, base2) in enumerate(zip(seq1, seq2)):\n",
    "        if base1 == base2:\n",
    "            positions.append(i)\n",
    "        \n",
    "    return positions\n",
    "\n",
    "identity_v4a(seq1, seq2)[:20]"
   ]
  },
  {
   "cell_type": "markdown",
   "metadata": {},
   "source": [
    "### itertools module\n",
    "How to generate all the possible codons of the genetic code? 'AAA', 'AAT', 'AAC', 'AAG', ...\n",
    "\n",
    "We want <strong>all</strong> possible rearrangements of the four nucleotides."
   ]
  },
  {
   "cell_type": "code",
   "execution_count": 19,
   "metadata": {},
   "outputs": [
    {
     "data": {
      "text/plain": [
       "(64, ['AAA', 'AAT', 'AAC', 'AAG', 'ATA', 'ATT', 'ATC', 'ATG', 'ACA', 'ACT'])"
      ]
     },
     "execution_count": 19,
     "metadata": {},
     "output_type": "execute_result"
    }
   ],
   "source": [
    "def codons_v1():\n",
    "    bases = 'ATCG'\n",
    "    \n",
    "    codons = []\n",
    "    \n",
    "    for base1 in bases:\n",
    "        for base2 in bases:\n",
    "            for base3 in bases:\n",
    "                codons.append(\n",
    "                    base1 + base2 + base3\n",
    "                )\n",
    "    \n",
    "    return codons\n",
    "\n",
    "len(codons_v1()), codons_v1()[:10]"
   ]
  },
  {
   "cell_type": "markdown",
   "metadata": {},
   "source": [
    "For sets A and B, the **cartesian product** A × B is the set of all ordered pairs (a, b) where a ∈ A and b ∈ B:\n",
    "\n",
    "\\begin{equation*}\n",
    "A \\times B = \\{(x, y) | x \\in A, y \\in B\\}\n",
    "\\end{equation*}\n",
    "\n",
    "<br/>\n",
    "<img src=\"https://upload.wikimedia.org/wikipedia/commons/thumb/4/4e/Cartesian_Product_qtl1.svg/1280px-Cartesian_Product_qtl1.svg.png\" width=\"40%\" />"
   ]
  },
  {
   "cell_type": "markdown",
   "metadata": {},
   "source": [
    "The <strong>itertools</strong> module allows you to create all the permutations with or without replacement."
   ]
  },
  {
   "cell_type": "code",
   "execution_count": 20,
   "metadata": {},
   "outputs": [
    {
     "name": "stdout",
     "output_type": "stream",
     "text": [
      "('x', 1)\n",
      "('x', 2)\n",
      "('x', 3)\n",
      "('y', 1)\n",
      "('y', 2)\n",
      "('y', 3)\n",
      "('z', 1)\n",
      "('z', 2)\n",
      "('z', 3)\n"
     ]
    }
   ],
   "source": [
    "import itertools\n",
    "\n",
    "A = ['x', 'y', 'z']\n",
    "B = [1, 2, 3]\n",
    "\n",
    "for x in itertools.product(A, B):\n",
    "    print(x)"
   ]
  },
  {
   "cell_type": "markdown",
   "metadata": {},
   "source": [
    "The <code>product()</code> function takes as input a series of iterables (even only one) and a parameter <code>repeat</code> and computes the cartesian product of all elements."
   ]
  },
  {
   "cell_type": "code",
   "execution_count": 21,
   "metadata": {},
   "outputs": [
    {
     "data": {
      "text/plain": [
       "(64, ['AAA', 'AAT', 'AAC', 'AAG', 'ATA', 'ATT', 'ATC', 'ATG', 'ACA', 'ACT'])"
      ]
     },
     "execution_count": 21,
     "metadata": {},
     "output_type": "execute_result"
    }
   ],
   "source": [
    "def codons_v2():\n",
    "    bases = 'ATCG'\n",
    "    \n",
    "    codons = []\n",
    "    for codon_tuple in itertools.product(bases, repeat=3):\n",
    "        codons.append(\n",
    "            ''.join(codon_tuple)\n",
    "        )\n",
    "    \n",
    "    return codons\n",
    "\n",
    "len(codons_v2()), codons_v2()[:10]"
   ]
  },
  {
   "cell_type": "markdown",
   "metadata": {},
   "source": [
    "How to generate the codons without repeated bases?"
   ]
  },
  {
   "cell_type": "code",
   "execution_count": 23,
   "metadata": {},
   "outputs": [
    {
     "data": {
      "text/plain": [
       "(24,\n",
       " ['ATC',\n",
       "  'ATG',\n",
       "  'ACT',\n",
       "  'ACG',\n",
       "  'AGT',\n",
       "  'AGC',\n",
       "  'TAC',\n",
       "  'TAG',\n",
       "  'TCA',\n",
       "  'TCG',\n",
       "  'TGA',\n",
       "  'TGC',\n",
       "  'CAT',\n",
       "  'CAG',\n",
       "  'CTA',\n",
       "  'CTG',\n",
       "  'CGA',\n",
       "  'CGT',\n",
       "  'GAT',\n",
       "  'GAC',\n",
       "  'GTA',\n",
       "  'GTC',\n",
       "  'GCA',\n",
       "  'GCT'])"
      ]
     },
     "execution_count": 23,
     "metadata": {},
     "output_type": "execute_result"
    }
   ],
   "source": [
    "def count_all_bases_v5(dna):\n",
    "    counts = {\n",
    "        'A': 0,\n",
    "        'T': 0,\n",
    "        'C': 0,\n",
    "        'G': 0\n",
    "    }\n",
    "\n",
    "    for base in dna:\n",
    "        counts[base] += 1\n",
    "\n",
    "    return counts\n",
    "\n",
    "def codons_no_repetitions_v0():\n",
    "    bases = 'ATCG'\n",
    "    \n",
    "    codons = []\n",
    "    for codon in codons_v2():\n",
    "        counts = count_all_bases_v5(codon).values()\n",
    "        \n",
    "        add_codon = True\n",
    "        for count in counts:\n",
    "            if count > 1:\n",
    "                add_codon = False\n",
    "                break\n",
    "        \n",
    "        if add_codon:\n",
    "            codons.append(\n",
    "                ''.join(codon)\n",
    "            )\n",
    "    \n",
    "    return codons\n",
    "\n",
    "len(codons_no_repetitions_v0()), codons_no_repetitions_v0()"
   ]
  },
  {
   "cell_type": "code",
   "execution_count": 24,
   "metadata": {},
   "outputs": [
    {
     "data": {
      "text/plain": [
       "(24, ['ATC', 'ATG', 'ACT', 'ACG', 'AGT', 'AGC', 'TAC', 'TAG', 'TCA', 'TCG'])"
      ]
     },
     "execution_count": 24,
     "metadata": {},
     "output_type": "execute_result"
    }
   ],
   "source": [
    "def codons_no_repetitions_v1():\n",
    "    bases = 'ATCG'\n",
    "\n",
    "    codons = []\n",
    "    for codon_tuple in itertools.permutations(bases, 3):\n",
    "        codons.append(\n",
    "            ''.join(codon_tuple)\n",
    "        )\n",
    "    \n",
    "    return codons\n",
    "\n",
    "len(codons_no_repetitions_v1()), codons_no_repetitions_v1()[:10]"
   ]
  },
  {
   "cell_type": "markdown",
   "metadata": {},
   "source": [
    "How to get one rappresentant for each group of codons with the same nucleotide composition? For example, the codons 'AAT', 'ATA', and 'TAA' have the two As and one T."
   ]
  },
  {
   "cell_type": "markdown",
   "metadata": {},
   "source": [
    "Permutations differ from <strong>combinations</strong>, which are selections of some members of a set regardless of order."
   ]
  },
  {
   "cell_type": "code",
   "execution_count": 25,
   "metadata": {},
   "outputs": [
    {
     "data": {
      "text/plain": [
       "[('A', 'A', 'A'),\n",
       " ('A', 'A', 'T'),\n",
       " ('A', 'A', 'C'),\n",
       " ('A', 'A', 'G'),\n",
       " ('A', 'T', 'T'),\n",
       " ('A', 'T', 'C'),\n",
       " ('A', 'T', 'G'),\n",
       " ('A', 'C', 'C'),\n",
       " ('A', 'C', 'G'),\n",
       " ('A', 'G', 'G'),\n",
       " ('T', 'T', 'T'),\n",
       " ('T', 'T', 'C'),\n",
       " ('T', 'T', 'G'),\n",
       " ('T', 'C', 'C'),\n",
       " ('T', 'C', 'G'),\n",
       " ('T', 'G', 'G'),\n",
       " ('C', 'C', 'C'),\n",
       " ('C', 'C', 'G'),\n",
       " ('C', 'G', 'G'),\n",
       " ('G', 'G', 'G')]"
      ]
     },
     "execution_count": 25,
     "metadata": {},
     "output_type": "execute_result"
    }
   ],
   "source": [
    "list(itertools.combinations_with_replacement('ATCG', 3))"
   ]
  },
  {
   "cell_type": "markdown",
   "metadata": {},
   "source": [
    "How to get one rappresentant for each group of codons with the same nucleotide composition, but without nucleotide repetitions?"
   ]
  },
  {
   "cell_type": "code",
   "execution_count": 26,
   "metadata": {},
   "outputs": [
    {
     "data": {
      "text/plain": [
       "[('A', 'T', 'C'), ('A', 'T', 'G'), ('A', 'C', 'G'), ('T', 'C', 'G')]"
      ]
     },
     "execution_count": 26,
     "metadata": {},
     "output_type": "execute_result"
    }
   ],
   "source": [
    "list(itertools.combinations('ATCG', 3)) # ATC, AAT, ATT"
   ]
  }
 ],
 "metadata": {
  "kernelspec": {
   "display_name": "Python 3 (ipykernel)",
   "language": "python",
   "name": "python3"
  },
  "language_info": {
   "codemirror_mode": {
    "name": "ipython",
    "version": 3
   },
   "file_extension": ".py",
   "mimetype": "text/x-python",
   "name": "python",
   "nbconvert_exporter": "python",
   "pygments_lexer": "ipython3",
   "version": "3.11.4"
  }
 },
 "nbformat": 4,
 "nbformat_minor": 4
}
