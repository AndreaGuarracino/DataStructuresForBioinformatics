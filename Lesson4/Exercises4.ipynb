{
 "cells": [
  {
   "cell_type": "markdown",
   "metadata": {},
   "source": [
    "### Exercise\n",
    "\n",
    "Compute all pair-wise identities (number of identical character pairs)."
   ]
  },
  {
   "cell_type": "code",
   "execution_count": 1,
   "metadata": {},
   "outputs": [],
   "source": [
    "sequences = [\n",
    "    'CGAACGCCCTAGGCGGGTCAGGGCCGAGGGCGGAGACCAGCGATACAATA',\n",
    "    'CGCCCAATCGCCTCTGGAAGTTTGGATGCCCCGTGCGGTAGCCCCAGGTC',\n",
    "    'TTTGAGCGCGCGCGCCTCTGTTGAAAACGCCCCGTTCTCGCCGGACAAAA',\n",
    "    'AGCCCGAAGAATAATGGACTTTCGCCTTTGTCGCAGCCAGCGATTCCGAC'\n",
    "]\n",
    "\n",
    "# TO DO"
   ]
  },
  {
   "cell_type": "markdown",
   "metadata": {},
   "source": [
    "### Exercise\n",
    "\n",
    "- read the HLA class I histocompatibility antigen protein sequence from the [P04439.fasta](../data/P04439.fasta) file;\n",
    "- read the genetic code in the [genetic_code.tsv](../data/genetic_code.tsv) file\n",
    "- write the corresponding ribonucleotide sequence in a file, `P04439.rna.fasta`, replacing each amino acid with the corresponding codon."
   ]
  },
  {
   "cell_type": "code",
   "execution_count": 2,
   "metadata": {},
   "outputs": [],
   "source": [
    "# TO DO"
   ]
  },
  {
   "cell_type": "markdown",
   "metadata": {},
   "source": [
    "### Exercise\n",
    "\n",
    "Print the index of the first occurrence of the ATG codon.\n",
    "\n",
    "Try with and without using the `find()` method on strings."
   ]
  },
  {
   "cell_type": "code",
   "execution_count": 3,
   "metadata": {},
   "outputs": [],
   "source": [
    "# TO DO"
   ]
  }
 ],
 "metadata": {
  "kernelspec": {
   "display_name": "Python 3",
   "language": "python",
   "name": "python3"
  },
  "language_info": {
   "codemirror_mode": {
    "name": "ipython",
    "version": 3
   },
   "file_extension": ".py",
   "mimetype": "text/x-python",
   "name": "python",
   "nbconvert_exporter": "python",
   "pygments_lexer": "ipython3",
   "version": "3.8.3"
  }
 },
 "nbformat": 4,
 "nbformat_minor": 4
}
