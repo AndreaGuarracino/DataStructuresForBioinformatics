{
 "cells": [
  {
   "cell_type": "markdown",
   "metadata": {},
   "source": [
    "### Exercise\n",
    "\n",
    "We have a dirty list of mutations. Clean it, and check if the valid mutations can belong to the HLA class I histocompatibility antigen protein. In particular:\n",
    "\n",
    "- create a `get_valid_mutation` which take as input a list of mutations, and returns a new list containing only the valid mutations (try to use the `startswith` method to check the presence of the `p.` prefix);\n",
    "- read the HLA class I histocompatibility antigen protein sequence from the `P04439.fasta` file;\n",
    "- for each valid mutation, check if it can belong to the HLA class I histocompatibility antigen protein sequence (try to use the `lstrip()` method to remove the `p.` prefix from the mutation)"
   ]
  },
  {
   "cell_type": "code",
   "execution_count": null,
   "metadata": {},
   "outputs": [],
   "source": [
    "mutations = [\n",
    "    'p.thr21ARG', 'AUG', 'p.Pro39Arg', 'p.Gly40Ile', 'p.Thr366Ser', 'p.Leu19Gly',\n",
    "    'p.LEU110VAL', 'p.Val49Ile', 'p.Asn90Asp', 13, 'p.Tyr109GIy', 'p.Phe133His',\n",
    "    'p.Arg0Leu', 'p.Leu134Cys', 'p.M4t162Arg', True, 'p.Glu190Ser', 'p.Thr213Phe',\n",
    "    'p.Tyr0Le', 'p.Cys222Tyr', 'p.GLN248VaL', 'p.Thr249Ile', 'p.Asn1.3Lys', 'p.Ala322Gly'\n",
    "]\n",
    "\n",
    "aa_3L_to_1L = {\n",
    "    'CYS': 'C', 'ASP': 'D', 'SER': 'S', 'GLN': 'Q', 'LYS': 'K',\n",
    "    'ILE': 'I', 'PRO': 'P', 'THR': 'T', 'PHE': 'F', 'ASN': 'N',\n",
    "    'GLY': 'G', 'HIS': 'H', 'LEU': 'L', 'ARG': 'R', 'TRP': 'W',\n",
    "    'ALA': 'A', 'VAL': 'V', 'GLU': 'E', 'TYR': 'Y', 'MET': 'M'\n",
    "}"
   ]
  },
  {
   "cell_type": "code",
   "execution_count": null,
   "metadata": {},
   "outputs": [],
   "source": [
    "# TO DO"
   ]
  },
  {
   "cell_type": "markdown",
   "metadata": {},
   "source": [
    "### Exercise\n",
    "\n",
    "Write a function which generates 1000000 random strings long 100 characters, and return how many of them are valid proteins."
   ]
  },
  {
   "cell_type": "code",
   "execution_count": null,
   "metadata": {},
   "outputs": [],
   "source": [
    "# TO DO"
   ]
  },
  {
   "cell_type": "markdown",
   "metadata": {},
   "source": [
    "### Exercise\n",
    "\n",
    "Write a function that counts the number of times a character appears in the sequence taken as input. Do not use the `count()` method."
   ]
  },
  {
   "cell_type": "code",
   "execution_count": null,
   "metadata": {},
   "outputs": [],
   "source": [
    "# TO DO"
   ]
  }
 ],
 "metadata": {
  "kernelspec": {
   "display_name": "Python 3",
   "language": "python",
   "name": "python3"
  },
  "language_info": {
   "codemirror_mode": {
    "name": "ipython",
    "version": 3
   },
   "file_extension": ".py",
   "mimetype": "text/x-python",
   "name": "python",
   "nbconvert_exporter": "python",
   "pygments_lexer": "ipython3",
   "version": "3.8.3"
  }
 },
 "nbformat": 4,
 "nbformat_minor": 4
}
