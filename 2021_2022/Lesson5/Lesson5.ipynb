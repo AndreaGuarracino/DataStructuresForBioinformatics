{
 "cells": [
  {
   "cell_type": "markdown",
   "metadata": {},
   "source": [
    "# Lesson 5 - 2021/11/11"
   ]
  },
  {
   "cell_type": "markdown",
   "metadata": {},
   "source": [
    "### Looking for motifs"
   ]
  },
  {
   "cell_type": "code",
   "execution_count": 31,
   "metadata": {},
   "outputs": [],
   "source": [
    "seq = 'TAGGATTACAGGCATGAGCTACCGTATAATGGCCAGGCCCCCTGCCTTTGTAAATAAATTTTCACTGGAACCTGGACACACTTGTTTATGTGTTGTTTGTGCCTGTTTTCACGCTGCGGCAGGAAAGTTGAGTCGTTGTGTCAGAGACCAGAGAGAGAGCCTGCAGAACCTCAAATACTATCTGGCCCTTGCCAGAAAAAGTTTACCAACCCCCTGCCTCCCTGGAATGGGTGGAGGGTGGTTGTAAAGGTACTGGAGGATCTGAAGACATAATAGGGTCCGTGACCCTTGTGAGGTTGTGAAGCTCCCTTAAGGCACATGGTGGCTGGGCTGTGGATTTGGGGTATGGGCAGAGAGTGTGGAGAGCACTTCCAGGGGCCATGTCTGAGAGACTACATGATGCCACTTTGAATGCCCAGTTTGTTCATCCTTTTCTGTTTTCCCCACTTCCCCAGATGGGTGATCTACAATGACCAGAAAGTGTGTGCCTCCGAGAAGCCGCCCAAGGATATAATACATCTACTTCTACCAGAGAGTGGCCAGCTAAGAGCCTGCCTCACCCCTTACCAATGAGGGCAGGGGAAGACCACCTGGCATGAGGGAGAGGGGCTGAGGGATGGACTTCAGCCCCTCTGCTCTGTACCCTTTTTCCTTTTGTCCCCGGCAGCAGGGAAGAAGCTGGAGGCCGTGGGAGAATGGCTGGGCAGAGCAGAGGGGCAGCGATAGACTCTGGGGATGGAGCAGGACGGGGACGGGAGGGGCCGGCCACCTGTCTGTAAGGAGACTTTGTTGCTTCCCCTGCCCCCGGAATCCACAGTGCTCTGCTTCTCTGTGTCGCCCCGCCCAGCCCCCTGGTGTGGAGGGAGGGGTCTCGTTTGTGCGCGTGGGTGTAGCTTTGTGCATCCTCTCCCAGTGGAGCGATCACCTGTGCCTCCCCTCCCCCTTTGTTTGCCCCTGTGTGGTTGGTCAAGGAGGGATGTGAGGGAAATAGGGACCCCCCGACTTGCCCTCCTGCCTCAGTCTTTCCCCCACCCTGTCTCTTCCTTGTCCTTCTCTGGAAAATGCCAAAATACACGATGTGAATAAAAGTACAACGGCTAAATTGTGTCCTGTTTGATACCTTGGGGGAGAGGCTTACCTTCCTGGGGTTAGCAGGAGGGCGCTTAAGAAAACTCCTAACTCTGGCCGCCTCCCTGCCAAAGTCAAGTCTCCACTTTTCACTGGTTCTAGAGCTCTAGGAAAATTGGGGTTGGGTGGGGAGGTGGAGTAGAGTGACTAAATGCCGACACAAAGCCAAGGAAAGATGGAGTGAAGAACCCTTCCCTCTCTTTATTCACACAGGAGTGGAGGATTTCCCAAATGTCCCTAACTGGCTAGCTGGCTTCAGGCTGGGACTCAGTCCCTGCAGTTCCTGCCAGGCCTTGCCAGCCGGGGCGAGGGTTGGGATGATCCTGGCGGCCTATGCCTTATAATGCTGCCCCTCCCGCTGTGAACCCTGCATTTGTCCCGCAAGTTTTCACTCAGGTAGACTCCCTGGGTACAAGGGTGCCTGCTCAGCAGTCGGGCATGAGCTGCTCCGATGGGCGAAGGAGGTTGTCTATCCCACAGTTGGAGAGGGGCCCTCTCTGCCCCAGTGGGCGATCTGGGCTACGGCCAAGTTGCCACCAGCTAGTTCCGCTTGAAAACCACTTCTGGCCCCGTGGGGGACTCAAGTCGCCAAGCGAGGGTTCCCCTGAGCGCCGGAGCTCACAGGTCTCGCCTTGTCCCGAAAGCCCCGCAATCGAGGCGGAGGCGACCGAGCCCCCGACTCTCCTAGAACGTTGCCACAAGAAGGGGGAACGTCGGAACAGTGCATCATCGGGCGGCGGCCGGGGCGGCGGCAGGAGGGCGGGCGGGGGGCAGGGCTCCGGGGGACTGGGCGGGCCATGGCGGAGGACGGCGAGGAGGCGGAGTTCCACTTCGCGGCGCTCTATATAAGTGGGCAGTGGCCGCGACTGCGCGCAGACACTGACCTTCAGCGCCTCGGCTCCAGCGCCATGGCGCCCTCCAGGAAGTTCTTCGTTGGGGGAAACTGGAAGATGAACGGGCGGAAGCAGAGTCTGGGGGAGCTCATCGGCACTCTGAACGCGGCCAAGGTGCCGGCCGACACCG'\n",
    "\n",
    "consensus_motifs = {\n",
    "    'Shine_Dalgarno': 'AGGAGG',\n",
    "    'TATA_BOX': 'TATAAT',\n",
    "    'CAT_BOX': 'GGGCGG',\n",
    "    'FAKE_BOX_1': 'ATGGAAGGCA',\n",
    "    'FAKE_BOX_2': 'TTTTA'\n",
    "}"
   ]
  },
  {
   "cell_type": "code",
   "execution_count": null,
   "metadata": {},
   "outputs": [],
   "source": []
  },
  {
   "cell_type": "code",
   "execution_count": null,
   "metadata": {},
   "outputs": [],
   "source": []
  },
  {
   "cell_type": "code",
   "execution_count": null,
   "metadata": {},
   "outputs": [],
   "source": []
  },
  {
   "cell_type": "code",
   "execution_count": null,
   "metadata": {},
   "outputs": [],
   "source": []
  },
  {
   "cell_type": "code",
   "execution_count": null,
   "metadata": {},
   "outputs": [],
   "source": []
  },
  {
   "cell_type": "code",
   "execution_count": null,
   "metadata": {},
   "outputs": [],
   "source": []
  },
  {
   "cell_type": "code",
   "execution_count": 32,
   "metadata": {},
   "outputs": [],
   "source": [
    "def find_motifs_v1(sequence, motifs):\n",
    "    motifs_dict = {}\n",
    "    \n",
    "    for motif in motifs:\n",
    "        motif_len = len(motif)\n",
    "\n",
    "        for pos in range(len(sequence) - motif_len + 1):\n",
    "            kmer = sequence[pos:pos+motif_len]\n",
    "            \n",
    "            if motif == kmer:\n",
    "                if motif not in motifs_dict.keys():\n",
    "                    motifs_dict[motif] = set()\n",
    "                motifs_dict[motif].add(pos)\n",
    "\n",
    "    return motifs_dict"
   ]
  },
  {
   "cell_type": "code",
   "execution_count": 35,
   "metadata": {},
   "outputs": [
    {
     "name": "stdout",
     "output_type": "stream",
     "text": [
      "ABCDE\n",
      "BCDEF\n",
      "CDEFG\n",
      "DEFGH\n",
      "EFGHI\n"
     ]
    }
   ],
   "source": [
    "little_seq = 'ABCDEFGHI'\n",
    "            # ABCDE\n",
    "            #  BCDEF\n",
    "            #   CDEFG\n",
    "            #    DEFGH\n",
    "            #     EFGHI\n",
    "motif_len = 5\n",
    "\n",
    "for pos in range(len(little_seq) - motif_len + 1):\n",
    "    kmer = little_seq[pos:pos+motif_len]\n",
    "    print(kmer)"
   ]
  },
  {
   "cell_type": "code",
   "execution_count": 36,
   "metadata": {},
   "outputs": [
    {
     "data": {
      "text/plain": [
       "{'AGGAGG': {969, 1153, 1587, 1881, 1941},\n",
       " 'TATAAT': {24, 509, 1467},\n",
       " 'GGGCGG': {1859, 1871, 1885, 1889, 1916, 2084}}"
      ]
     },
     "execution_count": 36,
     "metadata": {},
     "output_type": "execute_result"
    }
   ],
   "source": [
    "find_motifs_v1(seq, consensus_motifs.values())"
   ]
  },
  {
   "cell_type": "code",
   "execution_count": null,
   "metadata": {},
   "outputs": [],
   "source": []
  },
  {
   "cell_type": "code",
   "execution_count": null,
   "metadata": {},
   "outputs": [],
   "source": []
  },
  {
   "cell_type": "code",
   "execution_count": null,
   "metadata": {},
   "outputs": [],
   "source": []
  },
  {
   "cell_type": "code",
   "execution_count": null,
   "metadata": {},
   "outputs": [],
   "source": []
  },
  {
   "cell_type": "code",
   "execution_count": null,
   "metadata": {},
   "outputs": [],
   "source": []
  },
  {
   "cell_type": "code",
   "execution_count": null,
   "metadata": {},
   "outputs": [],
   "source": []
  },
  {
   "cell_type": "code",
   "execution_count": 37,
   "metadata": {},
   "outputs": [
    {
     "name": "stdout",
     "output_type": "stream",
     "text": [
      "1.15 ms ± 3.82 µs per loop (mean ± std. dev. of 7 runs, 1000 loops each)\n",
      "691 µs ± 3.26 µs per loop (mean ± std. dev. of 7 runs, 1000 loops each)\n"
     ]
    }
   ],
   "source": [
    "def find_motifs_v2(sequence, motifs):\n",
    "    motifs_dict = {}\n",
    "    \n",
    "    for motif in motifs:\n",
    "        if motif in seq:\n",
    "            motif_len = len(motif)\n",
    "\n",
    "            for pos in range(len(sequence) - motif_len + 1):\n",
    "                kmer = sequence[pos:pos+motif_len]\n",
    "                if motif == kmer:\n",
    "                    if motif not in motifs_dict.keys():\n",
    "                        motifs_dict[motif] = set()\n",
    "                    motifs_dict[motif].add(pos)\n",
    "\n",
    "    return motifs_dict\n",
    "\n",
    "%timeit find_motifs_v1(seq, consensus_motifs.values())\n",
    "%timeit find_motifs_v2(seq, consensus_motifs.values())"
   ]
  },
  {
   "cell_type": "markdown",
   "metadata": {},
   "source": [
    "A Python dictionary throws a KeyError if you try to get an item with a key that is not currently in the dictionary."
   ]
  },
  {
   "cell_type": "code",
   "execution_count": 38,
   "metadata": {},
   "outputs": [
    {
     "ename": "KeyError",
     "evalue": "'TATAAT'",
     "output_type": "error",
     "traceback": [
      "\u001b[0;31m---------------------------------------------------------------------------\u001b[0m",
      "\u001b[0;31mKeyError\u001b[0m                                  Traceback (most recent call last)",
      "\u001b[0;32m<ipython-input-38-dd53eadf0c24>\u001b[0m in \u001b[0;36m<module>\u001b[0;34m\u001b[0m\n\u001b[1;32m      1\u001b[0m \u001b[0mmotifs_dict\u001b[0m \u001b[0;34m=\u001b[0m \u001b[0;34m{\u001b[0m\u001b[0;34m}\u001b[0m\u001b[0;34m\u001b[0m\u001b[0;34m\u001b[0m\u001b[0m\n\u001b[1;32m      2\u001b[0m \u001b[0;34m\u001b[0m\u001b[0m\n\u001b[0;32m----> 3\u001b[0;31m \u001b[0mmotifs_dict\u001b[0m\u001b[0;34m[\u001b[0m\u001b[0;34m'TATAAT'\u001b[0m\u001b[0;34m]\u001b[0m\u001b[0;34m.\u001b[0m\u001b[0madd\u001b[0m\u001b[0;34m(\u001b[0m\u001b[0;36m3\u001b[0m\u001b[0;34m)\u001b[0m\u001b[0;34m\u001b[0m\u001b[0;34m\u001b[0m\u001b[0m\n\u001b[0m",
      "\u001b[0;31mKeyError\u001b[0m: 'TATAAT'"
     ]
    }
   ],
   "source": [
    "motifs_dict = {}\n",
    "\n",
    "motifs_dict['TATAAT'].add(3)"
   ]
  },
  {
   "cell_type": "markdown",
   "metadata": {},
   "source": [
    "The <code>defaultdict</code> lets to specify the default value when the container is initialized."
   ]
  },
  {
   "cell_type": "code",
   "execution_count": 39,
   "metadata": {},
   "outputs": [],
   "source": [
    "from collections import defaultdict\n",
    "\n",
    "def find_motifs_v3(sequence, motifs):\n",
    "    motifs_dict = defaultdict(set)\n",
    "    \n",
    "    for motif in motifs:\n",
    "        if motif in seq:\n",
    "            motif_len = len(motif)\n",
    "\n",
    "            for pos in range(len(sequence) - motif_len + 1):\n",
    "                kmer = sequence[pos:pos+motif_len]\n",
    "                if motif == kmer:\n",
    "                    # Now it's useless\n",
    "                    #if motif not in motifs_dict.keys():\n",
    "                    #    motifs_dict[motif] = set()\n",
    "                    motifs_dict[motif].add(pos)\n",
    "\n",
    "    return motifs_dict"
   ]
  },
  {
   "cell_type": "code",
   "execution_count": 40,
   "metadata": {},
   "outputs": [
    {
     "data": {
      "text/plain": [
       "defaultdict(list, {'TATAAT': [3]})"
      ]
     },
     "execution_count": 40,
     "metadata": {},
     "output_type": "execute_result"
    }
   ],
   "source": [
    "motifs_dict = defaultdict(list)\n",
    "\n",
    "motifs_dict['TATAAT'].append(3)\n",
    "motifs_dict"
   ]
  },
  {
   "cell_type": "code",
   "execution_count": 41,
   "metadata": {},
   "outputs": [
    {
     "data": {
      "text/plain": [
       "defaultdict(set,\n",
       "            {'AGGAGG': {969, 1153, 1587, 1881, 1941},\n",
       "             'TATAAT': {24, 509, 1467},\n",
       "             'GGGCGG': {1859, 1871, 1885, 1889, 1916, 2084}})"
      ]
     },
     "execution_count": 41,
     "metadata": {},
     "output_type": "execute_result"
    }
   ],
   "source": [
    "find_motifs_v3(seq, consensus_motifs.values())"
   ]
  },
  {
   "cell_type": "code",
   "execution_count": 42,
   "metadata": {},
   "outputs": [],
   "source": [
    "new_modif = 'AGG.G[GT]' # AGGGGT, AGGCGG, AGGAGG, ..."
   ]
  },
  {
   "cell_type": "markdown",
   "metadata": {},
   "source": [
    "A **regular expression** is a sequence of characters that defines a search pattern."
   ]
  },
  {
   "cell_type": "code",
   "execution_count": 43,
   "metadata": {},
   "outputs": [
    {
     "name": "stdout",
     "output_type": "stream",
     "text": [
      "<re.Match object; span=(864, 870), match='AGGGGT'>\n"
     ]
    }
   ],
   "source": [
    "import re\n",
    "\n",
    "result = re.search(new_modif, seq)\n",
    "if result:\n",
    "    print(result)"
   ]
  },
  {
   "cell_type": "markdown",
   "metadata": {},
   "source": [
    "`search()` scans through string looking for the first location where the regular expression pattern produces a match."
   ]
  },
  {
   "cell_type": "code",
   "execution_count": 44,
   "metadata": {},
   "outputs": [
    {
     "name": "stdout",
     "output_type": "stream",
     "text": [
      "(864, 870)\n",
      "AGGGGT\n"
     ]
    }
   ],
   "source": [
    "print(result.span())\n",
    "print(result.group())"
   ]
  },
  {
   "cell_type": "code",
   "execution_count": 45,
   "metadata": {},
   "outputs": [
    {
     "name": "stdout",
     "output_type": "stream",
     "text": [
      "(864, 870) AGGGGT\n",
      "(969, 975) AGGAGG\n",
      "(1153, 1159) AGGAGG\n",
      "(1259, 1265) AGGTGG\n",
      "(1339, 1345) AGGAGT\n",
      "(1587, 1593) AGGAGG\n",
      "(1783, 1789) AGGCGG\n",
      "(1831, 1837) AGGGGG\n",
      "(1881, 1887) AGGAGG\n",
      "(1941, 1947) AGGAGG\n"
     ]
    }
   ],
   "source": [
    "for match in re.finditer(new_modif, seq):\n",
    "    print(match.span(), match.group())    "
   ]
  },
  {
   "cell_type": "markdown",
   "metadata": {},
   "source": [
    "`finditer()` return an iterator yielding match objects over all non-overlapping matches for the pattern in a string."
   ]
  },
  {
   "cell_type": "markdown",
   "metadata": {},
   "source": [
    "# Managing files and directories\n",
    "\n",
    "We have a list of Uniprot Ids and we need to get the associated protein sequences."
   ]
  },
  {
   "cell_type": "code",
   "execution_count": 46,
   "metadata": {},
   "outputs": [
    {
     "name": "stdout",
     "output_type": "stream",
     "text": [
      "Q13188\n",
      "O00444\n",
      "P49760\n",
      "PYYY4Z\n",
      "Q13627\n",
      "Q02156\n",
      "\n"
     ]
    }
   ],
   "source": [
    "with open('../data/uniprot_ids.txt') as f:\n",
    "    print(f.read())"
   ]
  },
  {
   "cell_type": "code",
   "execution_count": 47,
   "metadata": {},
   "outputs": [],
   "source": [
    "import os"
   ]
  },
  {
   "cell_type": "markdown",
   "metadata": {},
   "source": [
    "The `os` module provides a portable way of using operating system dependent functionality."
   ]
  },
  {
   "cell_type": "code",
   "execution_count": 48,
   "metadata": {},
   "outputs": [],
   "source": [
    "if not os.path.exists('./protein_sequences'):\n",
    "    os.makedirs('./protein_sequences')"
   ]
  },
  {
   "cell_type": "code",
   "execution_count": null,
   "metadata": {},
   "outputs": [],
   "source": []
  },
  {
   "cell_type": "code",
   "execution_count": null,
   "metadata": {},
   "outputs": [],
   "source": []
  },
  {
   "cell_type": "code",
   "execution_count": null,
   "metadata": {},
   "outputs": [],
   "source": []
  },
  {
   "cell_type": "code",
   "execution_count": null,
   "metadata": {},
   "outputs": [],
   "source": []
  },
  {
   "cell_type": "code",
   "execution_count": null,
   "metadata": {},
   "outputs": [],
   "source": []
  },
  {
   "cell_type": "code",
   "execution_count": null,
   "metadata": {},
   "outputs": [],
   "source": []
  },
  {
   "cell_type": "markdown",
   "metadata": {},
   "source": [
    "https://www.uniprot.org/uniprot/Q13188.fasta<br/>\n",
    "https://www.uniprot.org/uniprot/O00444.fasta<br/>\n",
    "https://www.uniprot.org/uniprot/P49760.fasta<br/>\n",
    "https://www.uniprot.org/uniprot/PYYY4Z.fasta<br/>\n",
    "https://www.uniprot.org/uniprot/Q13627.fasta<br/>\n",
    "https://www.uniprot.org/uniprot/Q02156.fasta"
   ]
  },
  {
   "cell_type": "code",
   "execution_count": 49,
   "metadata": {},
   "outputs": [],
   "source": [
    "import requests"
   ]
  },
  {
   "cell_type": "markdown",
   "metadata": {},
   "source": [
    "The `requests` module allows you to send HTTP requests using Python."
   ]
  },
  {
   "cell_type": "code",
   "execution_count": 53,
   "metadata": {},
   "outputs": [],
   "source": [
    "def download_fasta_v1(uniprot_id, output_dir):\n",
    "    url = 'https://www.uniprot.org/uniprot/{}.fasta'.format(uniprot_id)\n",
    "    \n",
    "    result = requests.get(url)\n",
    "    if result.status_code == 200:\n",
    "        output_fasta = os.path.join(output_dir, uniprot_id) + '.fasta'\n",
    "        \n",
    "        with open(output_fasta, 'w') as f:\n",
    "            f.write('{}'.format(result.text))"
   ]
  },
  {
   "cell_type": "code",
   "execution_count": 54,
   "metadata": {},
   "outputs": [
    {
     "name": "stdout",
     "output_type": "stream",
     "text": [
      ">sp|Q13627|DYR1A_HUMAN Dual specificity tyrosine-phosphorylation-regulated kinase 1A OS=Homo sapiens OX=9606 GN=DYRK1A PE=1 SV=2\n",
      "MHTGGETSACKPSSVRLAPSFSFHAAGLQMAGQMPHSHQYSDRRQPNISDQQVSALSYSD\n",
      "QIQQPLTNQVMPDIVMLQRRMPQTFRDPATAPLRKLSVDLIKTYKHINEVYYAKKKRRHQ\n",
      "QGQGDDSSHKKERKVYNDGYDDDNYDYIVKNGEKWMDRYEIDSLIGKGSFGQVVKAYDRV\n",
      "EQEWVAIKIIKNKKAFLNQAQIEVRLLELMNKHDTEMKYYIVHLKRHFMFRNHLCLVFEM\n",
      "LSYNLYDLLRNTNFRGVSLNLTRKFAQQMCTALLFLATPELSIIHCDLKPENILLCNPKR\n",
      "SAIKIVDFGSSCQLGQRIYQYIQSRFYRSPEVLLGMPYDLAIDMWSLGCILVEMHTGEPL\n",
      "FSGANEVDQMNKIVEVLGIPPAHILDQAPKARKFFEKLPDGTWNLKKTKDGKREYKPPGT\n",
      "RKLHNILGVETGGPGGRRAGESGHTVADYLKFKDLILRMLDYDPKTRIQPYYALQHSFFK\n",
      "KTADEGTNTSNSVSTSPAMEQSQSSGTTSSTSSSSGGSSGTSNSGRARSDPTHQHRHSGG\n",
      "HFTAAVQAMDCETHSPQVRQQFPAPLGWSGTEAPTQVTVETHPVQETTFHVAPQQNALHH\n",
      "HHGNSSHHHHHHHHHHHHHGQQALGNRTRPRVYNSPTNSSSTQDSMEVGHSHHSMTSLSS\n",
      "STTSSSTSSSSTGNQGNQAYQNRPVAANTLDFGQNGAMDVNLTVYSNPRQETGIAGHPTY\n",
      "QFSANTGPAHYMTEGHLTMRQGADREESPMTGVCVQQSPVASS\n",
      "\n"
     ]
    }
   ],
   "source": [
    "download_fasta_v1('Q13627', './protein_sequences')\n",
    "\n",
    "with open('./protein_sequences/Q13627.fasta') as f:\n",
    "    print(f.read())"
   ]
  },
  {
   "cell_type": "code",
   "execution_count": null,
   "metadata": {},
   "outputs": [],
   "source": []
  },
  {
   "cell_type": "code",
   "execution_count": null,
   "metadata": {},
   "outputs": [],
   "source": []
  },
  {
   "cell_type": "code",
   "execution_count": null,
   "metadata": {},
   "outputs": [],
   "source": []
  },
  {
   "cell_type": "code",
   "execution_count": null,
   "metadata": {},
   "outputs": [],
   "source": []
  },
  {
   "cell_type": "code",
   "execution_count": null,
   "metadata": {},
   "outputs": [],
   "source": []
  },
  {
   "cell_type": "code",
   "execution_count": null,
   "metadata": {},
   "outputs": [],
   "source": []
  },
  {
   "cell_type": "code",
   "execution_count": 55,
   "metadata": {},
   "outputs": [
    {
     "data": {
      "text/plain": [
       "False"
      ]
     },
     "execution_count": 55,
     "metadata": {},
     "output_type": "execute_result"
    }
   ],
   "source": [
    "def download_fasta_v2(uniprot_id, output_dir):\n",
    "    url = 'https://www.uniprot.org/uniprot/{}.fasta'.format(uniprot_id)\n",
    "    \n",
    "    result = requests.get(url)\n",
    "    if result.status_code == 200:\n",
    "        output_fasta = os.path.join(output_dir, uniprot_id) + '.fasta'\n",
    "        \n",
    "        with open(output_fasta, 'w') as f:\n",
    "            f.write('{}'.format(result.text))\n",
    "            \n",
    "        return True\n",
    "\n",
    "    return False\n",
    "\n",
    "download_fasta_v2('FAKE_UNIPROT', './protein_sequences')"
   ]
  },
  {
   "cell_type": "code",
   "execution_count": null,
   "metadata": {},
   "outputs": [],
   "source": []
  },
  {
   "cell_type": "code",
   "execution_count": null,
   "metadata": {},
   "outputs": [],
   "source": []
  },
  {
   "cell_type": "code",
   "execution_count": null,
   "metadata": {},
   "outputs": [],
   "source": []
  },
  {
   "cell_type": "code",
   "execution_count": null,
   "metadata": {},
   "outputs": [],
   "source": []
  },
  {
   "cell_type": "code",
   "execution_count": null,
   "metadata": {},
   "outputs": [],
   "source": []
  },
  {
   "cell_type": "code",
   "execution_count": null,
   "metadata": {},
   "outputs": [],
   "source": []
  },
  {
   "cell_type": "code",
   "execution_count": 57,
   "metadata": {},
   "outputs": [
    {
     "data": {
      "text/plain": [
       "True"
      ]
     },
     "execution_count": 57,
     "metadata": {},
     "output_type": "execute_result"
    }
   ],
   "source": [
    "def download_fasta_v3(uniprot_id, output_dir):\n",
    "    output_fasta = os.path.join(output_dir, uniprot_id) + '.fasta'\n",
    "    if not os.path.exists(output_fasta):\n",
    "        url = 'https://www.uniprot.org/uniprot/{}.fasta'.format(uniprot_id)\n",
    "\n",
    "        result = requests.get(url)\n",
    "        if result.status_code == 200:\n",
    "            with open(output_fasta, 'w') as f:\n",
    "                f.write('{}'.format(result.text))\n",
    "\n",
    "            return True\n",
    "\n",
    "        return False\n",
    "    \n",
    "    return True\n",
    "\n",
    "download_fasta_v3('Q13627', './protein_sequences')"
   ]
  },
  {
   "cell_type": "code",
   "execution_count": 58,
   "metadata": {},
   "outputs": [
    {
     "name": "stdout",
     "output_type": "stream",
     "text": [
      "321 ms ± 22.6 ms per loop (mean ± std. dev. of 7 runs, 1 loop each)\n",
      "2.12 µs ± 29.4 ns per loop (mean ± std. dev. of 7 runs, 100000 loops each)\n"
     ]
    }
   ],
   "source": [
    "%timeit download_fasta_v2('Q13627', './protein_sequences')\n",
    "%timeit download_fasta_v3('Q13627', './protein_sequences')"
   ]
  },
  {
   "cell_type": "code",
   "execution_count": null,
   "metadata": {},
   "outputs": [],
   "source": []
  },
  {
   "cell_type": "code",
   "execution_count": null,
   "metadata": {},
   "outputs": [],
   "source": []
  },
  {
   "cell_type": "code",
   "execution_count": null,
   "metadata": {},
   "outputs": [],
   "source": []
  },
  {
   "cell_type": "code",
   "execution_count": null,
   "metadata": {},
   "outputs": [],
   "source": []
  },
  {
   "cell_type": "code",
   "execution_count": null,
   "metadata": {},
   "outputs": [],
   "source": []
  },
  {
   "cell_type": "code",
   "execution_count": 59,
   "metadata": {},
   "outputs": [
    {
     "name": "stdout",
     "output_type": "stream",
     "text": [
      "File: ./protein_sequences/Q13627.fasta\n",
      "File: \n"
     ]
    }
   ],
   "source": [
    "def download_fasta_v4(uniprot_id, output_dir):\n",
    "    output_fasta = os.path.join(output_dir, uniprot_id) + '.fasta'\n",
    "    if not os.path.exists(output_fasta):\n",
    "        url = 'https://www.uniprot.org/uniprot/{}.fasta'.format(uniprot_id)\n",
    "\n",
    "        result = requests.get(url)\n",
    "        if result.status_code == 200:\n",
    "            with open(output_fasta, 'w') as f:\n",
    "                f.write('{}'.format(result.text))\n",
    "\n",
    "            return output_fasta\n",
    "\n",
    "        return ''\n",
    "    \n",
    "    return output_fasta\n",
    "\n",
    "print('File:', download_fasta_v4('Q13627', './protein_sequences'))\n",
    "print('File:', download_fasta_v4('FAKE_UNIPROT', './protein_sequences'))"
   ]
  },
  {
   "cell_type": "code",
   "execution_count": null,
   "metadata": {},
   "outputs": [],
   "source": []
  },
  {
   "cell_type": "code",
   "execution_count": null,
   "metadata": {},
   "outputs": [],
   "source": []
  },
  {
   "cell_type": "code",
   "execution_count": null,
   "metadata": {},
   "outputs": [],
   "source": []
  },
  {
   "cell_type": "code",
   "execution_count": null,
   "metadata": {},
   "outputs": [],
   "source": []
  },
  {
   "cell_type": "code",
   "execution_count": 60,
   "metadata": {},
   "outputs": [
    {
     "name": "stdout",
     "output_type": "stream",
     "text": [
      "./protein_sequences/Q13188.fasta created.\n",
      "./protein_sequences/O00444.fasta created.\n",
      "./protein_sequences/P49760.fasta created.\n",
      "Problems with PYYY4Z\n",
      "./protein_sequences/Q13627.fasta created.\n",
      "./protein_sequences/Q02156.fasta created.\n"
     ]
    }
   ],
   "source": [
    "with open('../data/uniprot_ids.txt') as f:\n",
    "    for line in f:\n",
    "        uniprot_id = line.strip()\n",
    "        output_file = download_fasta_v4(uniprot_id, './protein_sequences')\n",
    "        if output_file:\n",
    "            print('{} created.'.format(output_file))\n",
    "        else:\n",
    "            print('Problems with {}'.format(uniprot_id))"
   ]
  },
  {
   "cell_type": "code",
   "execution_count": 62,
   "metadata": {},
   "outputs": [
    {
     "data": {
      "text/plain": [
       "['Q13188.fasta',\n",
       " 'Q02156.fasta',\n",
       " 'Q13627.fasta',\n",
       " 'P49760.fasta',\n",
       " 'O00444.fasta']"
      ]
     },
     "execution_count": 62,
     "metadata": {},
     "output_type": "execute_result"
    }
   ],
   "source": [
    "os.listdir('./protein_sequences')"
   ]
  },
  {
   "cell_type": "markdown",
   "metadata": {},
   "source": [
    "`listdir()` returns a list containing the names of the entries in the directory given by path."
   ]
  }
 ],
 "metadata": {
  "kernelspec": {
   "display_name": "Python 3",
   "language": "python",
   "name": "python3"
  },
  "language_info": {
   "codemirror_mode": {
    "name": "ipython",
    "version": 3
   },
   "file_extension": ".py",
   "mimetype": "text/x-python",
   "name": "python",
   "nbconvert_exporter": "python",
   "pygments_lexer": "ipython3",
   "version": "3.8.10"
  }
 },
 "nbformat": 4,
 "nbformat_minor": 4
}
