{
 "cells": [
  {
   "cell_type": "markdown",
   "metadata": {},
   "source": [
    "### Exercise\n",
    "The following list is corrupted:"
   ]
  },
  {
   "cell_type": "code",
   "execution_count": 1,
   "metadata": {},
   "outputs": [],
   "source": [
    "mutations = [\n",
    "    'p.Ser31Ala',\n",
    "    'p.Pro38Leu',\n",
    "    'p.Asn100Lys',\n",
    "    'p.LEU110VAL',\n",
    "    13,\n",
    "    4.0,\n",
    "    True,\n",
    "    'p.Tyr341Leu',\n",
    "    'AUG',\n",
    "    'p.Tyr0Le',\n",
    "    'p.Asn1.3Lys',\n",
    "    'p.Arg0Leu'\n",
    "]"
   ]
  },
  {
   "cell_type": "markdown",
   "metadata": {},
   "source": [
    "How check which are valid mutations? Put valid mutations in a new list. A reasonable output could be:\n",
    "\n",
    "`['p.Ser31Ala', 'p.Pro38Leu', 'p.Asn100Lys', 'p.Leu110Val', 'p.Tyr341Leu']`"
   ]
  },
  {
   "cell_type": "markdown",
   "metadata": {},
   "source": [
    "#### Tips"
   ]
  },
  {
   "cell_type": "code",
   "execution_count": 2,
   "metadata": {},
   "outputs": [],
   "source": [
    "valid_aminos = [\n",
    "    'Cys', 'Asp', 'Ser', 'Gln', 'Lys', 'Ile', 'Pro',\n",
    "    'Thr', 'Phe', 'Asn', 'Gly', 'His', 'Leu', 'Arg',\n",
    "    'Trp', 'Ala', 'Val', 'Glu', 'Tyr', 'Met'\n",
    "]\n",
    "\n",
    "# https://www.geeksforgeeks.org/string-capitalize-python/\n",
    "# https://thispointer.com/python-how-to-check-if-an-item-exists-in-list-search-by-value-or-condition/\n",
    "# https://stackoverflow.com/questions/1265665/how-can-i-check-if-a-string-represents-an-int-without-using-try-except"
   ]
  },
  {
   "cell_type": "code",
   "execution_count": 3,
   "metadata": {},
   "outputs": [],
   "source": [
    "valid_mutations = []\n",
    "\n",
    "# TODO"
   ]
  },
  {
   "cell_type": "markdown",
   "metadata": {},
   "source": [
    "### Exercise\n",
    "\n",
    "Write a script to check if a protein sequence is valid."
   ]
  },
  {
   "cell_type": "code",
   "execution_count": 4,
   "metadata": {},
   "outputs": [],
   "source": [
    "# TODO"
   ]
  },
  {
   "cell_type": "markdown",
   "metadata": {},
   "source": [
    "### Exercise\n",
    "\n",
    "Print the amino acid composition of an input protein (23.3% S, 10.1% M, ...)."
   ]
  },
  {
   "cell_type": "code",
   "execution_count": 5,
   "metadata": {},
   "outputs": [],
   "source": [
    "# TODO"
   ]
  }
 ],
 "metadata": {
  "kernelspec": {
   "display_name": "Python 3 (ipykernel)",
   "language": "python",
   "name": "python3"
  },
  "language_info": {
   "codemirror_mode": {
    "name": "ipython",
    "version": 3
   },
   "file_extension": ".py",
   "mimetype": "text/x-python",
   "name": "python",
   "nbconvert_exporter": "python",
   "pygments_lexer": "ipython3",
   "version": "3.10.6"
  }
 },
 "nbformat": 4,
 "nbformat_minor": 4
}
