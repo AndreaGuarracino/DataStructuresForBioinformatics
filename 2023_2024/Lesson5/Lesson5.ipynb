{
 "cells": [
  {
   "cell_type": "markdown",
   "metadata": {},
   "source": [
    "# Lesson 5 - 2023/11/02"
   ]
  },
  {
   "cell_type": "markdown",
   "metadata": {},
   "source": [
    "### Looking for motifs"
   ]
  },
  {
   "cell_type": "code",
   "execution_count": 3,
   "metadata": {},
   "outputs": [],
   "source": [
    "seq = 'TAGGATTACAGGCATGAGCTACCGTATAATGGCCAGGCCCCCTGCCTTTGTAAATAAATTTTCACTGGAACCTGGACACACTTGTTTATGTGTTGTTTGTGCCTGTTTTCACGCTGCGGCAGGAAAGTTGAGTCGTTGTGTCAGAGACCAGAGAGAGAGCCTGCAGAACCTCAAATACTATCTGGCCCTTGCCAGAAAAAGTTTACCAACCCCCTGCCTCCCTGGAATGGGTGGAGGGTGGTTGTAAAGGTACTGGAGGATCTGAAGACATAATAGGGTCCGTGACCCTTGTGAGGTTGTGAAGCTCCCTTAAGGCACATGGTGGCTGGGCTGTGGATTTGGGGTATGGGCAGAGAGTGTGGAGAGCACTTCCAGGGGCCATGTCTGAGAGACTACATGATGCCACTTTGAATGCCCAGTTTGTTCATCCTTTTCTGTTTTCCCCACTTCCCCAGATGGGTGATCTACAATGACCAGAAAGTGTGTGCCTCCGAGAAGCCGCCCAAGGATATAATACATCTACTTCTACCAGAGAGTGGCCAGCTAAGAGCCTGCCTCACCCCTTACCAATGAGGGCAGGGGAAGACCACCTGGCATGAGGGAGAGGGGCTGAGGGATGGACTTCAGCCCCTCTGCTCTGTACCCTTTTTCCTTTTGTCCCCGGCAGCAGGGAAGAAGCTGGAGGCCGTGGGAGAATGGCTGGGCAGAGCAGAGGGGCAGCGATAGACTCTGGGGATGGAGCAGGACGGGGACGGGAGGGGCCGGCCACCTGTCTGTAAGGAGACTTTGTTGCTTCCCCTGCCCCCGGAATCCACAGTGCTCTGCTTCTCTGTGTCGCCCCGCCCAGCCCCCTGGTGTGGAGGGAGGGGTCTCGTTTGTGCGCGTGGGTGTAGCTTTGTGCATCCTCTCCCAGTGGAGCGATCACCTGTGCCTCCCCTCCCCCTTTGTTTGCCCCTGTGTGGTTGGTCAAGGAGGGATGTGAGGGAAATAGGGACCCCCCGACTTGCCCTCCTGCCTCAGTCTTTCCCCCACCCTGTCTCTTCCTTGTCCTTCTCTGGAAAATGCCAAAATACACGATGTGAATAAAAGTACAACGGCTAAATTGTGTCCTGTTTGATACCTTGGGGGAGAGGCTTACCTTCCTGGGGTTAGCAGGAGGGCGCTTAAGAAAACTCCTAACTCTGGCCGCCTCCCTGCCAAAGTCAAGTCTCCACTTTTCACTGGTTCTAGAGCTCTAGGAAAATTGGGGTTGGGTGGGGAGGTGGAGTAGAGTGACTAAATGCCGACACAAAGCCAAGGAAAGATGGAGTGAAGAACCCTTCCCTCTCTTTATTCACACAGGAGTGGAGGATTTCCCAAATGTCCCTAACTGGCTAGCTGGCTTCAGGCTGGGACTCAGTCCCTGCAGTTCCTGCCAGGCCTTGCCAGCCGGGGCGAGGGTTGGGATGATCCTGGCGGCCTATGCCTTATAATGCTGCCCCTCCCGCTGTGAACCCTGCATTTGTCCCGCAAGTTTTCACTCAGGTAGACTCCCTGGGTACAAGGGTGCCTGCTCAGCAGTCGGGCATGAGCTGCTCCGATGGGCGAAGGAGGTTGTCTATCCCACAGTTGGAGAGGGGCCCTCTCTGCCCCAGTGGGCGATCTGGGCTACGGCCAAGTTGCCACCAGCTAGTTCCGCTTGAAAACCACTTCTGGCCCCGTGGGGGACTCAAGTCGCCAAGCGAGGGTTCCCCTGAGCGCCGGAGCTCACAGGTCTCGCCTTGTCCCGAAAGCCCCGCAATCGAGGCGGAGGCGACCGAGCCCCCGACTCTCCTAGAACGTTGCCACAAGAAGGGGGAACGTCGGAACAGTGCATCATCGGGCGGCGGCCGGGGCGGCGGCAGGAGGGCGGGCGGGGGGCAGGGCTCCGGGGGACTGGGCGGGCCATGGCGGAGGACGGCGAGGAGGCGGAGTTCCACTTCGCGGCGCTCTATATAAGTGGGCAGTGGCCGCGACTGCGCGCAGACACTGACCTTCAGCGCCTCGGCTCCAGCGCCATGGCGCCCTCCAGGAAGTTCTTCGTTGGGGGAAACTGGAAGATGAACGGGCGGAAGCAGAGTCTGGGGGAGCTCATCGGCACTCTGAACGCGGCCAAGGTGCCGGCCGACACCG'\n",
    "\n",
    "consensus_motifs = {\n",
    "    'Shine_Dalgarno': 'AGGAGG',\n",
    "    'TATA_BOX': 'TATAAT',\n",
    "    'CAT_BOX': 'GGGCGG',\n",
    "    'FAKE_BOX_1': 'ATGGAAGGCA',\n",
    "    'FAKE_BOX_2': 'TTTTA'\n",
    "}"
   ]
  },
  {
   "cell_type": "code",
   "execution_count": null,
   "metadata": {},
   "outputs": [],
   "source": []
  },
  {
   "cell_type": "code",
   "execution_count": null,
   "metadata": {},
   "outputs": [],
   "source": []
  },
  {
   "cell_type": "code",
   "execution_count": null,
   "metadata": {},
   "outputs": [],
   "source": []
  },
  {
   "cell_type": "code",
   "execution_count": null,
   "metadata": {},
   "outputs": [],
   "source": []
  },
  {
   "cell_type": "code",
   "execution_count": null,
   "metadata": {},
   "outputs": [],
   "source": []
  },
  {
   "cell_type": "code",
   "execution_count": null,
   "metadata": {},
   "outputs": [],
   "source": []
  },
  {
   "cell_type": "code",
   "execution_count": 4,
   "metadata": {},
   "outputs": [],
   "source": [
    "def find_motifs_v1(sequence, motifs):\n",
    "    motifs_dict = {}\n",
    "    \n",
    "    for motif in motifs:\n",
    "        motif_len = len(motif)\n",
    "\n",
    "        for pos in range(len(sequence) - motif_len + 1):\n",
    "            kmer = sequence[pos:pos+motif_len]\n",
    "            \n",
    "            if motif == kmer:\n",
    "                if motif not in motifs_dict.keys():\n",
    "                    motifs_dict[motif] = set()\n",
    "                motifs_dict[motif].add(pos)\n",
    "\n",
    "    return motifs_dict"
   ]
  },
  {
   "cell_type": "code",
   "execution_count": 7,
   "metadata": {},
   "outputs": [
    {
     "name": "stdout",
     "output_type": "stream",
     "text": [
      "ABCDE\n",
      "BCDEF\n",
      "CDEFG\n",
      "DEFGH\n",
      "EFGHI\n"
     ]
    }
   ],
   "source": [
    "little_seq = 'ABCDEFGHI'\n",
    "            # ABCDE\n",
    "            #  BCDEF\n",
    "            #   CDEFG\n",
    "            #    DEFGH\n",
    "            #     EFGHI\n",
    "\n",
    "motif_len = 5\n",
    "\n",
    "for pos in range(len(little_seq) - motif_len + 1):\n",
    "    kmer = little_seq[pos:pos+motif_len]\n",
    "    print(kmer)"
   ]
  },
  {
   "cell_type": "code",
   "execution_count": 8,
   "metadata": {},
   "outputs": [
    {
     "data": {
      "text/plain": [
       "{'AGGAGG': {969, 1153, 1587, 1881, 1941},\n",
       " 'TATAAT': {24, 509, 1467},\n",
       " 'GGGCGG': {1859, 1871, 1885, 1889, 1916, 2084}}"
      ]
     },
     "execution_count": 8,
     "metadata": {},
     "output_type": "execute_result"
    }
   ],
   "source": [
    "find_motifs_v1(seq, consensus_motifs.values())"
   ]
  },
  {
   "cell_type": "code",
   "execution_count": null,
   "metadata": {},
   "outputs": [],
   "source": []
  },
  {
   "cell_type": "code",
   "execution_count": null,
   "metadata": {},
   "outputs": [],
   "source": []
  },
  {
   "cell_type": "code",
   "execution_count": null,
   "metadata": {},
   "outputs": [],
   "source": []
  },
  {
   "cell_type": "code",
   "execution_count": null,
   "metadata": {},
   "outputs": [],
   "source": []
  },
  {
   "cell_type": "code",
   "execution_count": null,
   "metadata": {},
   "outputs": [],
   "source": []
  },
  {
   "cell_type": "code",
   "execution_count": null,
   "metadata": {},
   "outputs": [],
   "source": []
  },
  {
   "cell_type": "code",
   "execution_count": 9,
   "metadata": {},
   "outputs": [
    {
     "name": "stdout",
     "output_type": "stream",
     "text": [
      "660 µs ± 15.9 µs per loop (mean ± std. dev. of 7 runs, 1,000 loops each)\n",
      "391 µs ± 6.57 µs per loop (mean ± std. dev. of 7 runs, 1,000 loops each)\n"
     ]
    }
   ],
   "source": [
    "def find_motifs_v2(sequence, motifs):\n",
    "    motifs_dict = {}\n",
    "    \n",
    "    for motif in motifs:\n",
    "        if motif in seq:\n",
    "            motif_len = len(motif)\n",
    "\n",
    "            for pos in range(len(sequence) - motif_len + 1):\n",
    "                kmer = sequence[pos:pos+motif_len]\n",
    "                if motif == kmer:\n",
    "                    if motif not in motifs_dict.keys():\n",
    "                        motifs_dict[motif] = set()\n",
    "                    motifs_dict[motif].add(pos)\n",
    "\n",
    "    return motifs_dict\n",
    "\n",
    "%timeit find_motifs_v1(seq, consensus_motifs.values())\n",
    "%timeit find_motifs_v2(seq, consensus_motifs.values())"
   ]
  },
  {
   "cell_type": "markdown",
   "metadata": {},
   "source": [
    "A Python dictionary throws a KeyError if you try to get an item with a key that is not currently in the dictionary."
   ]
  },
  {
   "cell_type": "code",
   "execution_count": 10,
   "metadata": {},
   "outputs": [
    {
     "ename": "KeyError",
     "evalue": "'TATAAT'",
     "output_type": "error",
     "traceback": [
      "\u001b[0;31m---------------------------------------------------------------------------\u001b[0m",
      "\u001b[0;31mKeyError\u001b[0m                                  Traceback (most recent call last)",
      "\u001b[1;32m/home/guarracino/git/DataStructuresForBioinformatics/2023_2024/Lesson5/Lesson5.ipynb Cell 21\u001b[0m line \u001b[0;36m3\n\u001b[1;32m      <a href='vscode-notebook-cell:/home/guarracino/git/DataStructuresForBioinformatics/2023_2024/Lesson5/Lesson5.ipynb#X26sZmlsZQ%3D%3D?line=0'>1</a>\u001b[0m motifs_dict \u001b[39m=\u001b[39m {}\n\u001b[0;32m----> <a href='vscode-notebook-cell:/home/guarracino/git/DataStructuresForBioinformatics/2023_2024/Lesson5/Lesson5.ipynb#X26sZmlsZQ%3D%3D?line=2'>3</a>\u001b[0m motifs_dict[\u001b[39m'\u001b[39;49m\u001b[39mTATAAT\u001b[39;49m\u001b[39m'\u001b[39;49m]\u001b[39m.\u001b[39madd(\u001b[39m3\u001b[39m)\n",
      "\u001b[0;31mKeyError\u001b[0m: 'TATAAT'"
     ]
    }
   ],
   "source": [
    "motifs_dict = {}\n",
    "\n",
    "motifs_dict['TATAAT'].add(3)"
   ]
  },
  {
   "cell_type": "markdown",
   "metadata": {},
   "source": [
    "The <code>defaultdict</code> lets to specify the default value when the container is initialized."
   ]
  },
  {
   "cell_type": "code",
   "execution_count": 11,
   "metadata": {},
   "outputs": [],
   "source": [
    "from collections import defaultdict\n",
    "\n",
    "def find_motifs_v3(sequence, motifs):\n",
    "    motifs_dict = defaultdict(set)\n",
    "    \n",
    "    for motif in motifs:\n",
    "        if motif in seq:\n",
    "            motif_len = len(motif)\n",
    "\n",
    "            for pos in range(len(sequence) - motif_len + 1):\n",
    "                kmer = sequence[pos:pos+motif_len]\n",
    "                if motif == kmer:\n",
    "                    # Now it's useless\n",
    "                    #if motif not in motifs_dict.keys():\n",
    "                    #    motifs_dict[motif] = set()\n",
    "                    motifs_dict[motif].add(pos)\n",
    "\n",
    "    return motifs_dict"
   ]
  },
  {
   "cell_type": "code",
   "execution_count": 12,
   "metadata": {},
   "outputs": [
    {
     "data": {
      "text/plain": [
       "defaultdict(list, {'TATAAT': [3]})"
      ]
     },
     "execution_count": 12,
     "metadata": {},
     "output_type": "execute_result"
    }
   ],
   "source": [
    "motifs_dict = defaultdict(list)\n",
    "\n",
    "motifs_dict['TATAAT'].append(3)\n",
    "motifs_dict"
   ]
  },
  {
   "cell_type": "code",
   "execution_count": 13,
   "metadata": {},
   "outputs": [
    {
     "data": {
      "text/plain": [
       "defaultdict(set,\n",
       "            {'AGGAGG': {969, 1153, 1587, 1881, 1941},\n",
       "             'TATAAT': {24, 509, 1467},\n",
       "             'GGGCGG': {1859, 1871, 1885, 1889, 1916, 2084}})"
      ]
     },
     "execution_count": 13,
     "metadata": {},
     "output_type": "execute_result"
    }
   ],
   "source": [
    "find_motifs_v3(seq, consensus_motifs.values())"
   ]
  },
  {
   "cell_type": "code",
   "execution_count": 15,
   "metadata": {},
   "outputs": [],
   "source": [
    "new_motif = 'AGG.G[GT]' # AGGGGT, AGGCGG, AGGAGG, ..."
   ]
  },
  {
   "cell_type": "markdown",
   "metadata": {},
   "source": [
    "A **regular expression** is a sequence of characters that defines a search pattern."
   ]
  },
  {
   "cell_type": "code",
   "execution_count": 16,
   "metadata": {},
   "outputs": [
    {
     "name": "stdout",
     "output_type": "stream",
     "text": [
      "<re.Match object; span=(864, 870), match='AGGGGT'>\n"
     ]
    }
   ],
   "source": [
    "import re\n",
    "\n",
    "result = re.search(new_motif, seq)\n",
    "if result:\n",
    "    print(result)"
   ]
  },
  {
   "cell_type": "markdown",
   "metadata": {},
   "source": [
    "`search()` scans through string looking for the first location where the regular expression pattern produces a match."
   ]
  },
  {
   "cell_type": "code",
   "execution_count": 17,
   "metadata": {},
   "outputs": [
    {
     "name": "stdout",
     "output_type": "stream",
     "text": [
      "(864, 870)\n",
      "AGGGGT\n"
     ]
    }
   ],
   "source": [
    "print(result.span())\n",
    "print(result.group())"
   ]
  },
  {
   "cell_type": "code",
   "execution_count": 18,
   "metadata": {},
   "outputs": [
    {
     "name": "stdout",
     "output_type": "stream",
     "text": [
      "(864, 870) AGGGGT\n",
      "(969, 975) AGGAGG\n",
      "(1153, 1159) AGGAGG\n",
      "(1259, 1265) AGGTGG\n",
      "(1339, 1345) AGGAGT\n",
      "(1587, 1593) AGGAGG\n",
      "(1783, 1789) AGGCGG\n",
      "(1831, 1837) AGGGGG\n",
      "(1881, 1887) AGGAGG\n",
      "(1941, 1947) AGGAGG\n"
     ]
    }
   ],
   "source": [
    "for match in re.finditer(new_motif, seq):\n",
    "    print(match.span(), match.group())"
   ]
  },
  {
   "cell_type": "markdown",
   "metadata": {},
   "source": [
    "`finditer()` return an iterator yielding match objects over all non-overlapping matches for the pattern in a string."
   ]
  },
  {
   "cell_type": "markdown",
   "metadata": {},
   "source": [
    "# Managing files and directories\n",
    "\n",
    "We have a list of Uniprot Ids and we need to get the associated protein sequences."
   ]
  },
  {
   "cell_type": "code",
   "execution_count": 19,
   "metadata": {},
   "outputs": [
    {
     "name": "stdout",
     "output_type": "stream",
     "text": [
      "Q13188\n",
      "O00444\n",
      "P49760\n",
      "PYYY4Z\n",
      "Q13627\n",
      "Q02156\n",
      "\n"
     ]
    }
   ],
   "source": [
    "with open('../data/uniprot_ids.txt') as f:\n",
    "    print(f.read())"
   ]
  },
  {
   "cell_type": "code",
   "execution_count": 20,
   "metadata": {},
   "outputs": [],
   "source": [
    "import os"
   ]
  },
  {
   "cell_type": "markdown",
   "metadata": {},
   "source": [
    "The `os` module provides a portable way of using operating system dependent functionality."
   ]
  },
  {
   "cell_type": "code",
   "execution_count": 21,
   "metadata": {},
   "outputs": [],
   "source": [
    "if not os.path.exists('./protein_sequences'):\n",
    "    os.makedirs('./protein_sequences')"
   ]
  },
  {
   "cell_type": "code",
   "execution_count": null,
   "metadata": {},
   "outputs": [],
   "source": []
  },
  {
   "cell_type": "code",
   "execution_count": null,
   "metadata": {},
   "outputs": [],
   "source": []
  },
  {
   "cell_type": "code",
   "execution_count": null,
   "metadata": {},
   "outputs": [],
   "source": []
  },
  {
   "cell_type": "code",
   "execution_count": null,
   "metadata": {},
   "outputs": [],
   "source": []
  },
  {
   "cell_type": "code",
   "execution_count": null,
   "metadata": {},
   "outputs": [],
   "source": []
  },
  {
   "cell_type": "code",
   "execution_count": null,
   "metadata": {},
   "outputs": [],
   "source": []
  },
  {
   "cell_type": "markdown",
   "metadata": {},
   "source": [
    "https://www.uniprot.org/uniprot/Q13188.fasta<br/>\n",
    "https://www.uniprot.org/uniprot/O00444.fasta<br/>\n",
    "https://www.uniprot.org/uniprot/P49760.fasta<br/>\n",
    "https://www.uniprot.org/uniprot/PYYY4Z.fasta<br/>\n",
    "https://www.uniprot.org/uniprot/Q13627.fasta<br/>\n",
    "https://www.uniprot.org/uniprot/Q02156.fasta"
   ]
  },
  {
   "cell_type": "code",
   "execution_count": 22,
   "metadata": {},
   "outputs": [],
   "source": [
    "import requests"
   ]
  },
  {
   "cell_type": "markdown",
   "metadata": {},
   "source": [
    "The `requests` module allows you to send HTTP requests using Python."
   ]
  },
  {
   "cell_type": "code",
   "execution_count": 23,
   "metadata": {},
   "outputs": [],
   "source": [
    "def download_fasta_v1(uniprot_id, output_dir):\n",
    "    url = 'https://www.uniprot.org/uniprot/{}.fasta'.format(uniprot_id)\n",
    "    \n",
    "    result = requests.get(url)\n",
    "    if result.status_code == 200:\n",
    "        output_fasta = os.path.join(output_dir, uniprot_id) + '.fasta'\n",
    "        \n",
    "        with open(output_fasta, 'w') as f:\n",
    "            f.write('{}'.format(result.text))"
   ]
  },
  {
   "cell_type": "code",
   "execution_count": 24,
   "metadata": {},
   "outputs": [
    {
     "name": "stdout",
     "output_type": "stream",
     "text": [
      ">sp|Q13627|DYR1A_HUMAN Dual specificity tyrosine-phosphorylation-regulated kinase 1A OS=Homo sapiens OX=9606 GN=DYRK1A PE=1 SV=2\n",
      "MHTGGETSACKPSSVRLAPSFSFHAAGLQMAGQMPHSHQYSDRRQPNISDQQVSALSYSD\n",
      "QIQQPLTNQVMPDIVMLQRRMPQTFRDPATAPLRKLSVDLIKTYKHINEVYYAKKKRRHQ\n",
      "QGQGDDSSHKKERKVYNDGYDDDNYDYIVKNGEKWMDRYEIDSLIGKGSFGQVVKAYDRV\n",
      "EQEWVAIKIIKNKKAFLNQAQIEVRLLELMNKHDTEMKYYIVHLKRHFMFRNHLCLVFEM\n",
      "LSYNLYDLLRNTNFRGVSLNLTRKFAQQMCTALLFLATPELSIIHCDLKPENILLCNPKR\n",
      "SAIKIVDFGSSCQLGQRIYQYIQSRFYRSPEVLLGMPYDLAIDMWSLGCILVEMHTGEPL\n",
      "FSGANEVDQMNKIVEVLGIPPAHILDQAPKARKFFEKLPDGTWNLKKTKDGKREYKPPGT\n",
      "RKLHNILGVETGGPGGRRAGESGHTVADYLKFKDLILRMLDYDPKTRIQPYYALQHSFFK\n",
      "KTADEGTNTSNSVSTSPAMEQSQSSGTTSSTSSSSGGSSGTSNSGRARSDPTHQHRHSGG\n",
      "HFTAAVQAMDCETHSPQVRQQFPAPLGWSGTEAPTQVTVETHPVQETTFHVAPQQNALHH\n",
      "HHGNSSHHHHHHHHHHHHHGQQALGNRTRPRVYNSPTNSSSTQDSMEVGHSHHSMTSLSS\n",
      "STTSSSTSSSSTGNQGNQAYQNRPVAANTLDFGQNGAMDVNLTVYSNPRQETGIAGHPTY\n",
      "QFSANTGPAHYMTEGHLTMRQGADREESPMTGVCVQQSPVASS\n",
      "\n"
     ]
    }
   ],
   "source": [
    "download_fasta_v1('Q13627', './protein_sequences')\n",
    "\n",
    "with open('./protein_sequences/Q13627.fasta') as f:\n",
    "    print(f.read())"
   ]
  },
  {
   "cell_type": "code",
   "execution_count": null,
   "metadata": {},
   "outputs": [],
   "source": []
  },
  {
   "cell_type": "code",
   "execution_count": null,
   "metadata": {},
   "outputs": [],
   "source": []
  },
  {
   "cell_type": "code",
   "execution_count": null,
   "metadata": {},
   "outputs": [],
   "source": []
  },
  {
   "cell_type": "code",
   "execution_count": null,
   "metadata": {},
   "outputs": [],
   "source": []
  },
  {
   "cell_type": "code",
   "execution_count": null,
   "metadata": {},
   "outputs": [],
   "source": []
  },
  {
   "cell_type": "code",
   "execution_count": null,
   "metadata": {},
   "outputs": [],
   "source": []
  },
  {
   "cell_type": "code",
   "execution_count": 25,
   "metadata": {},
   "outputs": [
    {
     "data": {
      "text/plain": [
       "False"
      ]
     },
     "execution_count": 25,
     "metadata": {},
     "output_type": "execute_result"
    }
   ],
   "source": [
    "def download_fasta_v2(uniprot_id, output_dir):\n",
    "    url = 'https://www.uniprot.org/uniprot/{}.fasta'.format(uniprot_id)\n",
    "    \n",
    "    result = requests.get(url)\n",
    "    if result.status_code == 200:\n",
    "        output_fasta = os.path.join(output_dir, uniprot_id) + '.fasta'\n",
    "        \n",
    "        with open(output_fasta, 'w') as f:\n",
    "            f.write('{}'.format(result.text))\n",
    "            \n",
    "        return True\n",
    "\n",
    "    return False\n",
    "\n",
    "download_fasta_v2('FAKE_UNIPROT', './protein_sequences')"
   ]
  },
  {
   "cell_type": "code",
   "execution_count": null,
   "metadata": {},
   "outputs": [],
   "source": []
  },
  {
   "cell_type": "code",
   "execution_count": null,
   "metadata": {},
   "outputs": [],
   "source": []
  },
  {
   "cell_type": "code",
   "execution_count": null,
   "metadata": {},
   "outputs": [],
   "source": []
  },
  {
   "cell_type": "code",
   "execution_count": null,
   "metadata": {},
   "outputs": [],
   "source": []
  },
  {
   "cell_type": "code",
   "execution_count": null,
   "metadata": {},
   "outputs": [],
   "source": []
  },
  {
   "cell_type": "code",
   "execution_count": null,
   "metadata": {},
   "outputs": [],
   "source": []
  },
  {
   "cell_type": "code",
   "execution_count": 27,
   "metadata": {},
   "outputs": [
    {
     "data": {
      "text/plain": [
       "True"
      ]
     },
     "execution_count": 27,
     "metadata": {},
     "output_type": "execute_result"
    }
   ],
   "source": [
    "def download_fasta_v3(uniprot_id, output_dir):\n",
    "    output_fasta = os.path.join(output_dir, uniprot_id) + '.fasta'\n",
    "    if not os.path.exists(output_fasta):\n",
    "        url = 'https://www.uniprot.org/uniprot/{}.fasta'.format(uniprot_id)\n",
    "\n",
    "        result = requests.get(url)\n",
    "        if result.status_code == 200:\n",
    "            with open(output_fasta, 'w') as f:\n",
    "                f.write('{}'.format(result.text))\n",
    "\n",
    "            return True\n",
    "\n",
    "        return False\n",
    "    \n",
    "    return True\n",
    "\n",
    "download_fasta_v3('Q13627', './protein_sequences')"
   ]
  },
  {
   "cell_type": "code",
   "execution_count": 28,
   "metadata": {},
   "outputs": [
    {
     "name": "stdout",
     "output_type": "stream",
     "text": [
      "1.1 s ± 17.5 ms per loop (mean ± std. dev. of 7 runs, 1 loop each)\n",
      "2.32 µs ± 80.2 ns per loop (mean ± std. dev. of 7 runs, 100,000 loops each)\n"
     ]
    }
   ],
   "source": [
    "%timeit download_fasta_v2('Q13627', './protein_sequences')\n",
    "%timeit download_fasta_v3('Q13627', './protein_sequences')"
   ]
  },
  {
   "cell_type": "code",
   "execution_count": null,
   "metadata": {},
   "outputs": [],
   "source": []
  },
  {
   "cell_type": "code",
   "execution_count": null,
   "metadata": {},
   "outputs": [],
   "source": []
  },
  {
   "cell_type": "code",
   "execution_count": null,
   "metadata": {},
   "outputs": [],
   "source": []
  },
  {
   "cell_type": "code",
   "execution_count": null,
   "metadata": {},
   "outputs": [],
   "source": []
  },
  {
   "cell_type": "code",
   "execution_count": null,
   "metadata": {},
   "outputs": [],
   "source": []
  },
  {
   "cell_type": "code",
   "execution_count": 30,
   "metadata": {},
   "outputs": [
    {
     "name": "stdout",
     "output_type": "stream",
     "text": [
      "File: ./protein_sequences/Q13627.fasta\n",
      "File: \n"
     ]
    }
   ],
   "source": [
    "def download_fasta_v4(uniprot_id, output_dir):\n",
    "    output_fasta = os.path.join(output_dir, uniprot_id) + '.fasta'\n",
    "    if not os.path.exists(output_fasta):\n",
    "        url = 'https://www.uniprot.org/uniprot/{}.fasta'.format(uniprot_id)\n",
    "\n",
    "        result = requests.get(url)\n",
    "        if result.status_code == 200:\n",
    "            with open(output_fasta, 'w') as f:\n",
    "                f.write('{}'.format(result.text))\n",
    "\n",
    "            return output_fasta\n",
    "\n",
    "        return ''\n",
    "    \n",
    "    return output_fasta\n",
    "\n",
    "print('File:', download_fasta_v4('Q13627', './protein_sequences'))\n",
    "print('File:', download_fasta_v4('FAKE_UNIPROT', './protein_sequences'))"
   ]
  },
  {
   "cell_type": "code",
   "execution_count": null,
   "metadata": {},
   "outputs": [],
   "source": []
  },
  {
   "cell_type": "code",
   "execution_count": null,
   "metadata": {},
   "outputs": [],
   "source": []
  },
  {
   "cell_type": "code",
   "execution_count": null,
   "metadata": {},
   "outputs": [],
   "source": []
  },
  {
   "cell_type": "code",
   "execution_count": null,
   "metadata": {},
   "outputs": [],
   "source": []
  },
  {
   "cell_type": "code",
   "execution_count": 31,
   "metadata": {},
   "outputs": [
    {
     "name": "stdout",
     "output_type": "stream",
     "text": [
      "./protein_sequences/Q13188.fasta created.\n",
      "./protein_sequences/O00444.fasta created.\n",
      "./protein_sequences/P49760.fasta created.\n",
      "Problems with PYYY4Z\n",
      "./protein_sequences/Q13627.fasta created.\n",
      "./protein_sequences/Q02156.fasta created.\n"
     ]
    }
   ],
   "source": [
    "with open('../data/uniprot_ids.txt') as f:\n",
    "    for line in f:\n",
    "        uniprot_id = line.strip()\n",
    "        output_file = download_fasta_v4(uniprot_id, './protein_sequences')\n",
    "        if output_file:\n",
    "            print('{} created.'.format(output_file))\n",
    "        else:\n",
    "            print('Problems with {}'.format(uniprot_id))"
   ]
  },
  {
   "cell_type": "code",
   "execution_count": 32,
   "metadata": {},
   "outputs": [
    {
     "data": {
      "text/plain": [
       "['Q13627.fasta',\n",
       " 'Q13188.fasta',\n",
       " 'O00444.fasta',\n",
       " 'Q02156.fasta',\n",
       " 'P49760.fasta']"
      ]
     },
     "execution_count": 32,
     "metadata": {},
     "output_type": "execute_result"
    }
   ],
   "source": [
    "os.listdir('./protein_sequences')"
   ]
  },
  {
   "cell_type": "markdown",
   "metadata": {},
   "source": [
    "`listdir()` returns a list containing the names of the entries in the directory given by path."
   ]
  }
 ],
 "metadata": {
  "kernelspec": {
   "display_name": "Python 3 (ipykernel)",
   "language": "python",
   "name": "python3"
  },
  "language_info": {
   "codemirror_mode": {
    "name": "ipython",
    "version": 3
   },
   "file_extension": ".py",
   "mimetype": "text/x-python",
   "name": "python",
   "nbconvert_exporter": "python",
   "pygments_lexer": "ipython3",
   "version": "3.11.4"
  }
 },
 "nbformat": 4,
 "nbformat_minor": 4
}
